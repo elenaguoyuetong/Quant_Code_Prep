{
 "cells": [
  {
   "cell_type": "code",
   "execution_count": 1,
   "id": "290c6b29",
   "metadata": {},
   "outputs": [],
   "source": [
    "import chinese_calendar\n",
    "from datetime import date, datetime\n",
    "import numpy as np\n",
    "import pandas as pd\n",
    "import pickle"
   ]
  },
  {
   "cell_type": "code",
   "execution_count": 2,
   "id": "86d93b95",
   "metadata": {},
   "outputs": [],
   "source": [
    "start_time = date(2010, 1, 1)\n",
    "end_time = date(2022, 12, 31)"
   ]
  },
  {
   "cell_type": "code",
   "execution_count": 3,
   "id": "9e55a116",
   "metadata": {},
   "outputs": [],
   "source": [
    "def get_tradedays(start_time, end_time):\n",
    "    workdays = chinese_calendar.get_workdays(start_time, end_time)\n",
    "    tradedays = np.array(workdays)[[x.weekday()<=5 for x in workdays]]\n",
    "    return tradedays"
   ]
  },
  {
   "cell_type": "code",
   "execution_count": 4,
   "id": "ea5226da",
   "metadata": {},
   "outputs": [
    {
     "data": {
      "text/plain": [
       "array([datetime.date(2010, 1, 4), datetime.date(2010, 1, 5),\n",
       "       datetime.date(2010, 1, 6), ..., datetime.date(2022, 12, 28),\n",
       "       datetime.date(2022, 12, 29), datetime.date(2022, 12, 30)],\n",
       "      dtype=object)"
      ]
     },
     "execution_count": 4,
     "metadata": {},
     "output_type": "execute_result"
    }
   ],
   "source": [
    "tradedays = get_tradedays(start_time, end_time)\n",
    "tradedays"
   ]
  },
  {
   "cell_type": "code",
   "execution_count": 5,
   "id": "111079d7",
   "metadata": {},
   "outputs": [],
   "source": [
    "file = open('tradedays.pkl', 'wb')\n",
    "pickle.dump(tradedays, file)"
   ]
  },
  {
   "cell_type": "code",
   "execution_count": 6,
   "id": "d7d5abf8",
   "metadata": {},
   "outputs": [
    {
     "data": {
      "text/plain": [
       "array([datetime.date(2010, 1, 4), datetime.date(2010, 1, 5),\n",
       "       datetime.date(2010, 1, 6), ..., datetime.date(2022, 12, 28),\n",
       "       datetime.date(2022, 12, 29), datetime.date(2022, 12, 30)],\n",
       "      dtype=object)"
      ]
     },
     "execution_count": 6,
     "metadata": {},
     "output_type": "execute_result"
    }
   ],
   "source": [
    "pd.read_pickle('tradedays.pkl')"
   ]
  }
 ],
 "metadata": {
  "kernelspec": {
   "display_name": "Python 3 (ipykernel)",
   "language": "python",
   "name": "python3"
  },
  "language_info": {
   "codemirror_mode": {
    "name": "ipython",
    "version": 3
   },
   "file_extension": ".py",
   "mimetype": "text/x-python",
   "name": "python",
   "nbconvert_exporter": "python",
   "pygments_lexer": "ipython3",
   "version": "3.8.5"
  }
 },
 "nbformat": 4,
 "nbformat_minor": 5
}
